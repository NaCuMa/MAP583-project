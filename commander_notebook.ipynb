{
  "nbformat": 4,
  "nbformat_minor": 0,
  "metadata": {
    "colab": {
      "name": "commander_notebook",
      "provenance": [],
      "collapsed_sections": []
    },
    "kernelspec": {
      "name": "python3",
      "display_name": "Python 3"
    },
    "language_info": {
      "name": "python"
    },
    "accelerator": "GPU"
  },
  "cells": [
    {
      "cell_type": "code",
      "source": [
        "import os\n",
        "#import shutil\n",
        "!pip3 install dgl\n",
        "import json\n",
        "!pip3 install sacred\n",
        "from sacred import Experiment\n",
        "from sacred.config import config_scope\n",
        "#import yaml\n",
        "import torch\n",
        "import torch.backends.cudnn as cudnn\n",
        "import math\n",
        "import numpy as np\n",
        "import matplotlib.pyplot as plt\n",
        "from datetime import datetime\n",
        "from pathlib import Path\n",
        "\n",
        "from sacred import SETTINGS\n",
        "SETTINGS.CONFIG.READ_ONLY_CONFIG = False"
      ],
      "metadata": {
        "colab": {
          "base_uri": "https://localhost:8080/"
        },
        "id": "mSZXVVsmtkof",
        "outputId": "b53cc1b1-6656-427c-f178-f2f36a9c667c"
      },
      "execution_count": null,
      "outputs": [
        {
          "output_type": "stream",
          "name": "stdout",
          "text": [
            "Requirement already satisfied: dgl in /usr/local/lib/python3.7/dist-packages (0.6.1)\n",
            "Requirement already satisfied: requests>=2.19.0 in /usr/local/lib/python3.7/dist-packages (from dgl) (2.23.0)\n",
            "Requirement already satisfied: scipy>=1.1.0 in /usr/local/lib/python3.7/dist-packages (from dgl) (1.4.1)\n",
            "Requirement already satisfied: numpy>=1.14.0 in /usr/local/lib/python3.7/dist-packages (from dgl) (1.21.5)\n",
            "Requirement already satisfied: networkx>=2.1 in /usr/local/lib/python3.7/dist-packages (from dgl) (2.6.3)\n",
            "Requirement already satisfied: urllib3!=1.25.0,!=1.25.1,<1.26,>=1.21.1 in /usr/local/lib/python3.7/dist-packages (from requests>=2.19.0->dgl) (1.24.3)\n",
            "Requirement already satisfied: chardet<4,>=3.0.2 in /usr/local/lib/python3.7/dist-packages (from requests>=2.19.0->dgl) (3.0.4)\n",
            "Requirement already satisfied: certifi>=2017.4.17 in /usr/local/lib/python3.7/dist-packages (from requests>=2.19.0->dgl) (2021.10.8)\n",
            "Requirement already satisfied: idna<3,>=2.5 in /usr/local/lib/python3.7/dist-packages (from requests>=2.19.0->dgl) (2.10)\n",
            "Requirement already satisfied: sacred in /usr/local/lib/python3.7/dist-packages (0.8.2)\n",
            "Requirement already satisfied: docopt<1.0,>=0.3 in /usr/local/lib/python3.7/dist-packages (from sacred) (0.6.2)\n",
            "Requirement already satisfied: munch<3.0,>=2.0.2 in /usr/local/lib/python3.7/dist-packages (from sacred) (2.5.0)\n",
            "Requirement already satisfied: colorama>=0.4 in /usr/local/lib/python3.7/dist-packages (from sacred) (0.4.4)\n",
            "Requirement already satisfied: py-cpuinfo>=4.0 in /usr/local/lib/python3.7/dist-packages (from sacred) (8.0.0)\n",
            "Requirement already satisfied: jsonpickle<2.0,>=1.2 in /usr/local/lib/python3.7/dist-packages (from sacred) (1.5.2)\n",
            "Requirement already satisfied: wrapt<2.0,>=1.0 in /usr/local/lib/python3.7/dist-packages (from sacred) (1.13.3)\n",
            "Requirement already satisfied: packaging>=18.0 in /usr/local/lib/python3.7/dist-packages (from sacred) (21.3)\n",
            "Requirement already satisfied: GitPython in /usr/local/lib/python3.7/dist-packages (from sacred) (3.1.27)\n",
            "Requirement already satisfied: importlib-metadata in /usr/local/lib/python3.7/dist-packages (from jsonpickle<2.0,>=1.2->sacred) (4.11.2)\n",
            "Requirement already satisfied: six in /usr/local/lib/python3.7/dist-packages (from munch<3.0,>=2.0.2->sacred) (1.15.0)\n",
            "Requirement already satisfied: pyparsing!=3.0.5,>=2.0.2 in /usr/local/lib/python3.7/dist-packages (from packaging>=18.0->sacred) (3.0.7)\n",
            "Requirement already satisfied: typing-extensions>=3.7.4.3 in /usr/local/lib/python3.7/dist-packages (from GitPython->sacred) (3.10.0.2)\n",
            "Requirement already satisfied: gitdb<5,>=4.0.1 in /usr/local/lib/python3.7/dist-packages (from GitPython->sacred) (4.0.9)\n",
            "Requirement already satisfied: smmap<6,>=3.0.1 in /usr/local/lib/python3.7/dist-packages (from gitdb<5,>=4.0.1->GitPython->sacred) (5.0.0)\n",
            "Requirement already satisfied: zipp>=0.5 in /usr/local/lib/python3.7/dist-packages (from importlib-metadata->jsonpickle<2.0,>=1.2->sacred) (3.7.0)\n"
          ]
        }
      ]
    },
    {
      "cell_type": "markdown",
      "source": [
        "On importe le code depuis un Google drive. Pour modifier les paramètres du réseau qui va être entrainé, il faut modifier le fichier default_config dans ce drive."
      ],
      "metadata": {
        "id": "uq5I4-WIWoEb"
      }
    },
    {
      "cell_type": "code",
      "source": [
        "from google.colab import drive\n",
        "drive.mount('/content/drive')\n",
        "\n",
        "import sys\n",
        "sys.path.insert(0,'/content/drive/My Drive/ColabNotebooks')"
      ],
      "metadata": {
        "colab": {
          "base_uri": "https://localhost:8080/"
        },
        "id": "rwHKtmVDtWjt",
        "outputId": "2550d1d6-c08a-44e1-f7de-d123a3ee6127"
      },
      "execution_count": null,
      "outputs": [
        {
          "output_type": "stream",
          "name": "stdout",
          "text": [
            "Drive already mounted at /content/drive; to attempt to forcibly remount, call drive.mount(\"/content/drive\", force_remount=True).\n"
          ]
        }
      ]
    },
    {
      "cell_type": "markdown",
      "source": [
        "Modifier le chemin d'accès en fonction de l'architecture du drive :"
      ],
      "metadata": {
        "id": "8FHHzpmbXkbs"
      }
    },
    {
      "cell_type": "code",
      "source": [
        "cd drive/MyDrive/'projet MAP583'/'code'"
      ],
      "metadata": {
        "colab": {
          "base_uri": "https://localhost:8080/"
        },
        "id": "JR69mYhJxVhA",
        "outputId": "ca1c3ab0-4593-469c-9c2b-67cdad0898a5"
      },
      "execution_count": null,
      "outputs": [
        {
          "output_type": "stream",
          "name": "stdout",
          "text": [
            "/content/drive/MyDrive/projet MAP583/code\n"
          ]
        }
      ]
    },
    {
      "cell_type": "code",
      "source": [
        "from models import get_model, get_model_gen\n",
        "from toolbox.losses import triplet_loss\n",
        "from toolbox import metrics\n",
        "from loaders.data_generator import QAP_Generator\n",
        "from loaders.siamese_loaders import siamese_loader\n",
        "from toolbox.metrics import all_losses_acc, accuracy_linear_assignment\n",
        "from toolbox.utils import check_dir"
      ],
      "metadata": {
        "id": "4Rea8uOd4Sb0",
        "colab": {
          "base_uri": "https://localhost:8080/"
        },
        "outputId": "2ed89c71-3345-4ece-ccb3-25fdaa26cba8"
      },
      "execution_count": null,
      "outputs": [
        {
          "output_type": "stream",
          "name": "stderr",
          "text": [
            "Using backend: pytorch\n"
          ]
        }
      ]
    },
    {
      "cell_type": "markdown",
      "source": [
        "La cellule ci-dessous vise à provoquer une erreur dans le code .yaml, précisant que l'attribut .FullLoader n'existe pas. Il suffit de modifier le fichier en question en remplaçant .FullLoader par .Loader et  de redémarer l'environnement d'exécution pour le faire fonctionner."
      ],
      "metadata": {
        "id": "JMJcXEC4VttC"
      }
    },
    {
      "cell_type": "code",
      "source": [
        "ex = Experiment(save_git_info=False, name ='current', interactive = True)\n",
        "ex.add_config('default_config.yaml')\n",
        "\n",
        "device = torch.device(\"cuda\" if torch.cuda.is_available() else \"cpu\")"
      ],
      "metadata": {
        "id": "NSuPVSELUilb"
      },
      "execution_count": null,
      "outputs": []
    },
    {
      "cell_type": "code",
      "source": [
        "!python commander.py train"
      ],
      "metadata": {
        "colab": {
          "base_uri": "https://localhost:8080/"
        },
        "id": "2HpT9fmZ3yIA",
        "outputId": "8126115b-5531-4acb-bb6e-b2c3e1de04ed"
      },
      "execution_count": null,
      "outputs": [
        {
          "output_type": "stream",
          "name": "stdout",
          "text": [
            "Using backend: pytorch\n",
            "WARNING - commander - No observers have been added to this run\n",
            "INFO - commander - Running command 'train'\n",
            "INFO - commander - Started\n",
            "Heading to Training.\n",
            "Current problem :  qap\n",
            "Using device: cuda\n",
            "Models saved in  /root/experiments-gnn/qap/qap_res/fgnn_2_ErdosRenyi_50_0.0015/03-07-22-07-54\n",
            "Creating dataset at /root/experiments-gnn/qap/data/QAP_ErdosRenyi_ErdosRenyi_200_50_1.0_0.1_0.0015/train.pkl\n",
            "100% 200/200 [00:01<00:00, 190.51it/s]\n",
            "Saving dataset at /root/experiments-gnn/qap/data/QAP_ErdosRenyi_ErdosRenyi_200_50_1.0_0.1_0.0015/train.pkl\n",
            "Creating dataset at /root/experiments-gnn/qap/data/QAP_ErdosRenyi_ErdosRenyi_200_50_1.0_0.1_0.0015/train_dgl.pkl\n",
            "Converting data to DGL format\n",
            "100% 200/200 [00:00<00:00, 445.06it/s]\n",
            "Conversion ended.\n",
            "Saving dataset at /root/experiments-gnn/qap/data/QAP_ErdosRenyi_ErdosRenyi_200_50_1.0_0.1_0.0015/train_dgl.pkl\n",
            "Creating dataset at /root/experiments-gnn/qap/data/QAP_ErdosRenyi_ErdosRenyi_10_50_1.0_0.1_0.0015/val.pkl\n",
            "100% 10/10 [00:00<00:00, 283.17it/s]\n",
            "Saving dataset at /root/experiments-gnn/qap/data/QAP_ErdosRenyi_ErdosRenyi_10_50_1.0_0.1_0.0015/val.pkl\n",
            "Creating dataset at /root/experiments-gnn/qap/data/QAP_ErdosRenyi_ErdosRenyi_10_50_1.0_0.1_0.0015/val_dgl.pkl\n",
            "Converting data to DGL format\n",
            "100% 10/10 [00:00<00:00, 607.44it/s]\n",
            "Conversion ended.\n",
            "Saving dataset at /root/experiments-gnn/qap/data/QAP_ErdosRenyi_ErdosRenyi_10_50_1.0_0.1_0.0015/val_dgl.pkl\n",
            "/usr/local/lib/python3.7/dist-packages/torch/utils/data/dataloader.py:481: UserWarning: This DataLoader will create 4 worker processes in total. Our suggested max number of worker in current system is 2, which is smaller than what this DataLoader is going to create. Please be aware that excessive worker creation might get DataLoader running slow or even freeze, lower the worker number to avoid potential slowness/freeze if necessary.\n",
            "  cpuset_checked))\n",
            "Fetching model fgnn siamese - (rs_node  embedding if fgnn)\n",
            "Model #parameters :  91520\n",
            "Current epoch:  0\n",
            "Validation set, epoch: [0][0/3]\tLoss 4.0462 (4.0462)\tAcc 0.030 (6.000)\n",
            "Best Model yet : saving at /root/experiments-gnn/qap/qap_res/fgnn_2_ErdosRenyi_50_0.0015/03-07-22-07-54/model_best.pth.tar\n",
            "Current epoch:  1\n",
            "Validation set, epoch: [1][0/3]\tLoss 3.7040 (3.7040)\tAcc 0.030 (6.000)\n",
            "Current epoch:  2\n",
            "Validation set, epoch: [2][0/3]\tLoss 3.6207 (3.6207)\tAcc 0.035 (7.000)\n",
            "Heading to evaluation.\n",
            "Using device: cuda\n",
            "Creating dataset at /root/experiments-gnn/qap/data/QAP_ErdosRenyi_ErdosRenyi_10_50_1.0_0.1_0.0015/test.pkl\n",
            "100% 10/10 [00:00<00:00, 501.98it/s]\n",
            "Saving dataset at /root/experiments-gnn/qap/data/QAP_ErdosRenyi_ErdosRenyi_10_50_1.0_0.1_0.0015/test.pkl\n",
            "Creating dataset at /root/experiments-gnn/qap/data/QAP_ErdosRenyi_ErdosRenyi_10_50_1.0_0.1_0.0015/test_dgl.pkl\n",
            "Converting data to DGL format\n",
            "100% 10/10 [00:00<00:00, 997.88it/s]\n",
            "Conversion ended.\n",
            "Saving dataset at /root/experiments-gnn/qap/data/QAP_ErdosRenyi_ErdosRenyi_10_50_1.0_0.1_0.0015/test_dgl.pkl\n",
            "/usr/local/lib/python3.7/dist-packages/torch/utils/data/dataloader.py:481: UserWarning: This DataLoader will create 4 worker processes in total. Our suggested max number of worker in current system is 2, which is smaller than what this DataLoader is going to create. Please be aware that excessive worker creation might get DataLoader running slow or even freeze, lower the worker number to avoid potential slowness/freeze if necessary.\n",
            "  cpuset_checked))\n",
            "Test set, epoch: [0][0/3]\tLoss 5.0587 (5.0587)\tAcc 0.030 (6.000)\n",
            "INFO - commander - Completed after 0:00:17\n"
          ]
        }
      ]
    },
    {
      "cell_type": "code",
      "source": [
        "def get_device_config(model_path):\n",
        "    config_file = os.path.join(model_path,'config.json')\n",
        "    logger_file = os.path.join(model_path,'logger.json')\n",
        "    with open(config_file) as json_file:\n",
        "        config_model = json.load(json_file)\n",
        "    with open(logger_file) as json_file:\n",
        "        logger_model = json.load(json_file)\n",
        "    use_cuda = not config_model['cpu'] and torch.cuda.is_available()\n",
        "    device = 'cuda' if use_cuda else 'cpu'\n",
        "    return config_model, device, logger_model\n",
        "\n",
        "def load_model(model_path, config, device):\n",
        "    model = get_model_gen(config['arch'])\n",
        "    model.to(device)\n",
        "    model_file = os.path.join(model_path,'model_best.pth.tar')\n",
        "    if device == 'cpu':\n",
        "        checkpoint = torch.load(model_file,map_location=torch.device('cpu'))\n",
        "    else:\n",
        "        checkpoint = torch.load(model_file)\n",
        "    model.load_state_dict(checkpoint['state_dict'])\n",
        "    return model\n",
        "\n",
        "def creat_args(config, num_ex = 1000):\n",
        "    args = config\n",
        "    print(args)\n",
        "    args['num_examples_test'] = num_ex\n",
        "    n_vertices = args['n_vertices']\n",
        "    edge_density = args['edge_density']\n",
        "    deg = (n_vertices)*edge_density\n",
        "    print(f'graphs with {n_vertices} vertices and average degree {deg}')\n",
        "    return args, deg\n",
        "\n",
        "def acc_2_error(mean_acc, q_acc):\n",
        "    error = q_acc-mean_acc[:,np.newaxis]\n",
        "    error[:,0] = -error[:,0]\n",
        "    return error\n",
        "\n",
        "def compute_all(list_noise,args,path_dataset,model,bs=50):\n",
        "    num_batches = math.ceil(args['num_examples_test']/bs)\n",
        "    all_losses = np.zeros((len(list_noise),num_batches))\n",
        "    all_acc = np.zeros((len(list_noise),args['num_examples_test']))\n",
        "    for i,noise in enumerate(list_noise):\n",
        "        args['noise'] = noise\n",
        "        gene_test = QAP_Generator('test', args, path_dataset)\n",
        "        gene_test.load_dataset()\n",
        "        test_loader = siamese_loader(gene_test, bs, gene_test.constant_n_vertices)\n",
        "        all_losses[i,:], all_acc[i,:] = all_losses_acc(test_loader,model,criterion,device,eval_score=accuracy_linear_assignment)\n",
        "    return all_losses, all_acc\n",
        "\n",
        "def compute_quant(all_acc,quant_low=0.1,quant_up=0.9):\n",
        "    mean_acc = np.mean(all_acc,1)\n",
        "    num = len(mean_acc)\n",
        "    q_acc = np.zeros((num,2))\n",
        "    for i in range(num):\n",
        "        q_acc[i,:] = np.quantile(all_acc[i,:],[quant_up, quant_low])\n",
        "    return mean_acc, q_acc"
      ],
      "metadata": {
        "id": "YZ6EmwPc2bpX"
      },
      "execution_count": null,
      "outputs": []
    },
    {
      "cell_type": "code",
      "source": [
        "cd"
      ],
      "metadata": {
        "colab": {
          "base_uri": "https://localhost:8080/"
        },
        "id": "2GZ__jHxVYKY",
        "outputId": "a6f40733-ac32-4841-eaa9-0f15f7904d7a"
      },
      "execution_count": null,
      "outputs": [
        {
          "output_type": "stream",
          "name": "stdout",
          "text": [
            "/root\n"
          ]
        }
      ]
    },
    {
      "cell_type": "code",
      "source": [
        "model_path = '/root/experiments-gnn/qap/qap_res/fgnn_2_ErdosRenyi_50_0.0015/03-07-22-07-54' # modifier le chemin en fonction de celui afficher dans la boucle train\n",
        "config_model, device, logger_model = get_device_config(model_path)\n",
        "model = load_model(model_path,config_model,device)\n",
        "criterion = triplet_loss()\n",
        "\n",
        "args,deg  = creat_args(logger_model['options']['data']['test'])\n",
        "\n",
        "num = 23\n",
        "list_noise = np.linspace(0, 0.22, num=num)"
      ],
      "metadata": {
        "colab": {
          "base_uri": "https://localhost:8080/"
        },
        "id": "6LvXkMKw2qZx",
        "outputId": "b11b1b35-4bda-4049-98f3-cc8067cba6d0"
      },
      "execution_count": null,
      "outputs": [
        {
          "output_type": "stream",
          "name": "stdout",
          "text": [
            "Fetching model fgnn siamese - (rs_node  embedding if fgnn)\n",
            "{'num_examples_test': 10, 'n_vertices': 50, 'sparsify': 'None', 'generative_model': 'ErdosRenyi', 'noise_model': 'ErdosRenyi', 'edge_density': 0.0015, 'vertex_proba': 1.0, 'noise': 0.1}\n",
            "graphs with 50 vertices and average degree 0.075\n"
          ]
        }
      ]
    },
    {
      "cell_type": "code",
      "source": [
        "for p in model.parameters():\n",
        "    p.requires_grad = False"
      ],
      "metadata": {
        "id": "pOBd__oUPKgt"
      },
      "execution_count": null,
      "outputs": []
    },
    {
      "cell_type": "code",
      "source": [
        "ROOT_DIR = Path.home()\n",
        "path_dataset = os.path.join(ROOT_DIR, 'data/')\n",
        "all_l, all_a = compute_all(list_noise,args,path_dataset,model);"
      ],
      "metadata": {
        "id": "nAM9txGk2yhK",
        "colab": {
          "base_uri": "https://localhost:8080/"
        },
        "outputId": "e0545a67-cdb7-472c-b669-33e96c2c184f"
      },
      "execution_count": null,
      "outputs": [
        {
          "output_type": "stream",
          "name": "stdout",
          "text": [
            "Creating dataset at /root/data/QAP_ErdosRenyi_ErdosRenyi_1000_50_1.0_0.0_0.0015/test.pkl\n"
          ]
        },
        {
          "output_type": "stream",
          "name": "stderr",
          "text": [
            "100%|██████████| 1000/1000 [00:02<00:00, 420.42it/s]\n"
          ]
        },
        {
          "output_type": "stream",
          "name": "stdout",
          "text": [
            "Saving dataset at /root/data/QAP_ErdosRenyi_ErdosRenyi_1000_50_1.0_0.0_0.0015/test.pkl\n",
            "Creating dataset at /root/data/QAP_ErdosRenyi_ErdosRenyi_1000_50_1.0_0.0_0.0015/test_dgl.pkl\n",
            "Converting data to DGL format\n"
          ]
        },
        {
          "output_type": "stream",
          "name": "stderr",
          "text": [
            "100%|██████████| 1000/1000 [00:01<00:00, 811.17it/s]\n"
          ]
        },
        {
          "output_type": "stream",
          "name": "stdout",
          "text": [
            "Conversion ended.\n",
            "Saving dataset at /root/data/QAP_ErdosRenyi_ErdosRenyi_1000_50_1.0_0.0_0.0015/test_dgl.pkl\n"
          ]
        },
        {
          "output_type": "stream",
          "name": "stderr",
          "text": [
            "/usr/local/lib/python3.7/dist-packages/torch/utils/data/dataloader.py:481: UserWarning: This DataLoader will create 4 worker processes in total. Our suggested max number of worker in current system is 2, which is smaller than what this DataLoader is going to create. Please be aware that excessive worker creation might get DataLoader running slow or even freeze, lower the worker number to avoid potential slowness/freeze if necessary.\n",
            "  cpuset_checked))\n"
          ]
        },
        {
          "output_type": "stream",
          "name": "stdout",
          "text": [
            "Creating dataset at /root/data/QAP_ErdosRenyi_ErdosRenyi_1000_50_1.0_0.01_0.0015/test.pkl\n"
          ]
        },
        {
          "output_type": "stream",
          "name": "stderr",
          "text": [
            "100%|██████████| 1000/1000 [00:02<00:00, 469.80it/s]\n"
          ]
        },
        {
          "output_type": "stream",
          "name": "stdout",
          "text": [
            "Saving dataset at /root/data/QAP_ErdosRenyi_ErdosRenyi_1000_50_1.0_0.01_0.0015/test.pkl\n",
            "Creating dataset at /root/data/QAP_ErdosRenyi_ErdosRenyi_1000_50_1.0_0.01_0.0015/test_dgl.pkl\n",
            "Converting data to DGL format\n"
          ]
        },
        {
          "output_type": "stream",
          "name": "stderr",
          "text": [
            "100%|██████████| 1000/1000 [00:01<00:00, 891.14it/s]\n"
          ]
        },
        {
          "output_type": "stream",
          "name": "stdout",
          "text": [
            "Conversion ended.\n",
            "Saving dataset at /root/data/QAP_ErdosRenyi_ErdosRenyi_1000_50_1.0_0.01_0.0015/test_dgl.pkl\n"
          ]
        },
        {
          "output_type": "stream",
          "name": "stderr",
          "text": [
            "/usr/local/lib/python3.7/dist-packages/torch/utils/data/dataloader.py:481: UserWarning: This DataLoader will create 4 worker processes in total. Our suggested max number of worker in current system is 2, which is smaller than what this DataLoader is going to create. Please be aware that excessive worker creation might get DataLoader running slow or even freeze, lower the worker number to avoid potential slowness/freeze if necessary.\n",
            "  cpuset_checked))\n"
          ]
        },
        {
          "output_type": "stream",
          "name": "stdout",
          "text": [
            "Creating dataset at /root/data/QAP_ErdosRenyi_ErdosRenyi_1000_50_1.0_0.02_0.0015/test.pkl\n"
          ]
        },
        {
          "output_type": "stream",
          "name": "stderr",
          "text": [
            "100%|██████████| 1000/1000 [00:02<00:00, 477.40it/s]\n"
          ]
        },
        {
          "output_type": "stream",
          "name": "stdout",
          "text": [
            "Saving dataset at /root/data/QAP_ErdosRenyi_ErdosRenyi_1000_50_1.0_0.02_0.0015/test.pkl\n",
            "Creating dataset at /root/data/QAP_ErdosRenyi_ErdosRenyi_1000_50_1.0_0.02_0.0015/test_dgl.pkl\n",
            "Converting data to DGL format\n"
          ]
        },
        {
          "output_type": "stream",
          "name": "stderr",
          "text": [
            "100%|██████████| 1000/1000 [00:01<00:00, 844.05it/s]\n"
          ]
        },
        {
          "output_type": "stream",
          "name": "stdout",
          "text": [
            "Conversion ended.\n",
            "Saving dataset at /root/data/QAP_ErdosRenyi_ErdosRenyi_1000_50_1.0_0.02_0.0015/test_dgl.pkl\n"
          ]
        },
        {
          "output_type": "stream",
          "name": "stderr",
          "text": [
            "/usr/local/lib/python3.7/dist-packages/torch/utils/data/dataloader.py:481: UserWarning: This DataLoader will create 4 worker processes in total. Our suggested max number of worker in current system is 2, which is smaller than what this DataLoader is going to create. Please be aware that excessive worker creation might get DataLoader running slow or even freeze, lower the worker number to avoid potential slowness/freeze if necessary.\n",
            "  cpuset_checked))\n"
          ]
        },
        {
          "output_type": "stream",
          "name": "stdout",
          "text": [
            "Creating dataset at /root/data/QAP_ErdosRenyi_ErdosRenyi_1000_50_1.0_0.03_0.0015/test.pkl\n"
          ]
        },
        {
          "output_type": "stream",
          "name": "stderr",
          "text": [
            "100%|██████████| 1000/1000 [00:02<00:00, 466.69it/s]\n"
          ]
        },
        {
          "output_type": "stream",
          "name": "stdout",
          "text": [
            "Saving dataset at /root/data/QAP_ErdosRenyi_ErdosRenyi_1000_50_1.0_0.03_0.0015/test.pkl\n",
            "Creating dataset at /root/data/QAP_ErdosRenyi_ErdosRenyi_1000_50_1.0_0.03_0.0015/test_dgl.pkl\n",
            "Converting data to DGL format\n"
          ]
        },
        {
          "output_type": "stream",
          "name": "stderr",
          "text": [
            "100%|██████████| 1000/1000 [00:01<00:00, 814.95it/s]\n"
          ]
        },
        {
          "output_type": "stream",
          "name": "stdout",
          "text": [
            "Conversion ended.\n",
            "Saving dataset at /root/data/QAP_ErdosRenyi_ErdosRenyi_1000_50_1.0_0.03_0.0015/test_dgl.pkl\n"
          ]
        },
        {
          "output_type": "stream",
          "name": "stderr",
          "text": [
            "/usr/local/lib/python3.7/dist-packages/torch/utils/data/dataloader.py:481: UserWarning: This DataLoader will create 4 worker processes in total. Our suggested max number of worker in current system is 2, which is smaller than what this DataLoader is going to create. Please be aware that excessive worker creation might get DataLoader running slow or even freeze, lower the worker number to avoid potential slowness/freeze if necessary.\n",
            "  cpuset_checked))\n"
          ]
        },
        {
          "output_type": "stream",
          "name": "stdout",
          "text": [
            "Creating dataset at /root/data/QAP_ErdosRenyi_ErdosRenyi_1000_50_1.0_0.04_0.0015/test.pkl\n"
          ]
        },
        {
          "output_type": "stream",
          "name": "stderr",
          "text": [
            "100%|██████████| 1000/1000 [00:02<00:00, 452.22it/s]\n"
          ]
        },
        {
          "output_type": "stream",
          "name": "stdout",
          "text": [
            "Saving dataset at /root/data/QAP_ErdosRenyi_ErdosRenyi_1000_50_1.0_0.04_0.0015/test.pkl\n",
            "Creating dataset at /root/data/QAP_ErdosRenyi_ErdosRenyi_1000_50_1.0_0.04_0.0015/test_dgl.pkl\n",
            "Converting data to DGL format\n"
          ]
        },
        {
          "output_type": "stream",
          "name": "stderr",
          "text": [
            "100%|██████████| 1000/1000 [00:01<00:00, 898.87it/s]\n"
          ]
        },
        {
          "output_type": "stream",
          "name": "stdout",
          "text": [
            "Conversion ended.\n",
            "Saving dataset at /root/data/QAP_ErdosRenyi_ErdosRenyi_1000_50_1.0_0.04_0.0015/test_dgl.pkl\n"
          ]
        },
        {
          "output_type": "stream",
          "name": "stderr",
          "text": [
            "/usr/local/lib/python3.7/dist-packages/torch/utils/data/dataloader.py:481: UserWarning: This DataLoader will create 4 worker processes in total. Our suggested max number of worker in current system is 2, which is smaller than what this DataLoader is going to create. Please be aware that excessive worker creation might get DataLoader running slow or even freeze, lower the worker number to avoid potential slowness/freeze if necessary.\n",
            "  cpuset_checked))\n"
          ]
        },
        {
          "output_type": "stream",
          "name": "stdout",
          "text": [
            "Creating dataset at /root/data/QAP_ErdosRenyi_ErdosRenyi_1000_50_1.0_0.05_0.0015/test.pkl\n"
          ]
        },
        {
          "output_type": "stream",
          "name": "stderr",
          "text": [
            "100%|██████████| 1000/1000 [00:02<00:00, 451.87it/s]\n"
          ]
        },
        {
          "output_type": "stream",
          "name": "stdout",
          "text": [
            "Saving dataset at /root/data/QAP_ErdosRenyi_ErdosRenyi_1000_50_1.0_0.05_0.0015/test.pkl\n",
            "Creating dataset at /root/data/QAP_ErdosRenyi_ErdosRenyi_1000_50_1.0_0.05_0.0015/test_dgl.pkl\n",
            "Converting data to DGL format\n"
          ]
        },
        {
          "output_type": "stream",
          "name": "stderr",
          "text": [
            "100%|██████████| 1000/1000 [00:01<00:00, 828.02it/s]\n"
          ]
        },
        {
          "output_type": "stream",
          "name": "stdout",
          "text": [
            "Conversion ended.\n",
            "Saving dataset at /root/data/QAP_ErdosRenyi_ErdosRenyi_1000_50_1.0_0.05_0.0015/test_dgl.pkl\n"
          ]
        },
        {
          "output_type": "stream",
          "name": "stderr",
          "text": [
            "/usr/local/lib/python3.7/dist-packages/torch/utils/data/dataloader.py:481: UserWarning: This DataLoader will create 4 worker processes in total. Our suggested max number of worker in current system is 2, which is smaller than what this DataLoader is going to create. Please be aware that excessive worker creation might get DataLoader running slow or even freeze, lower the worker number to avoid potential slowness/freeze if necessary.\n",
            "  cpuset_checked))\n"
          ]
        },
        {
          "output_type": "stream",
          "name": "stdout",
          "text": [
            "Creating dataset at /root/data/QAP_ErdosRenyi_ErdosRenyi_1000_50_1.0_0.06_0.0015/test.pkl\n"
          ]
        },
        {
          "output_type": "stream",
          "name": "stderr",
          "text": [
            "100%|██████████| 1000/1000 [00:02<00:00, 435.97it/s]\n"
          ]
        },
        {
          "output_type": "stream",
          "name": "stdout",
          "text": [
            "Saving dataset at /root/data/QAP_ErdosRenyi_ErdosRenyi_1000_50_1.0_0.06_0.0015/test.pkl\n",
            "Creating dataset at /root/data/QAP_ErdosRenyi_ErdosRenyi_1000_50_1.0_0.06_0.0015/test_dgl.pkl\n",
            "Converting data to DGL format\n"
          ]
        },
        {
          "output_type": "stream",
          "name": "stderr",
          "text": [
            "100%|██████████| 1000/1000 [00:01<00:00, 902.34it/s]\n"
          ]
        },
        {
          "output_type": "stream",
          "name": "stdout",
          "text": [
            "Conversion ended.\n",
            "Saving dataset at /root/data/QAP_ErdosRenyi_ErdosRenyi_1000_50_1.0_0.06_0.0015/test_dgl.pkl\n"
          ]
        },
        {
          "output_type": "stream",
          "name": "stderr",
          "text": [
            "/usr/local/lib/python3.7/dist-packages/torch/utils/data/dataloader.py:481: UserWarning: This DataLoader will create 4 worker processes in total. Our suggested max number of worker in current system is 2, which is smaller than what this DataLoader is going to create. Please be aware that excessive worker creation might get DataLoader running slow or even freeze, lower the worker number to avoid potential slowness/freeze if necessary.\n",
            "  cpuset_checked))\n"
          ]
        },
        {
          "output_type": "stream",
          "name": "stdout",
          "text": [
            "Creating dataset at /root/data/QAP_ErdosRenyi_ErdosRenyi_1000_50_1.0_0.07_0.0015/test.pkl\n"
          ]
        },
        {
          "output_type": "stream",
          "name": "stderr",
          "text": [
            "100%|██████████| 1000/1000 [00:02<00:00, 445.21it/s]\n"
          ]
        },
        {
          "output_type": "stream",
          "name": "stdout",
          "text": [
            "Saving dataset at /root/data/QAP_ErdosRenyi_ErdosRenyi_1000_50_1.0_0.07_0.0015/test.pkl\n",
            "Creating dataset at /root/data/QAP_ErdosRenyi_ErdosRenyi_1000_50_1.0_0.07_0.0015/test_dgl.pkl\n",
            "Converting data to DGL format\n"
          ]
        },
        {
          "output_type": "stream",
          "name": "stderr",
          "text": [
            "100%|██████████| 1000/1000 [00:01<00:00, 878.30it/s]\n"
          ]
        },
        {
          "output_type": "stream",
          "name": "stdout",
          "text": [
            "Conversion ended.\n",
            "Saving dataset at /root/data/QAP_ErdosRenyi_ErdosRenyi_1000_50_1.0_0.07_0.0015/test_dgl.pkl\n"
          ]
        },
        {
          "output_type": "stream",
          "name": "stderr",
          "text": [
            "/usr/local/lib/python3.7/dist-packages/torch/utils/data/dataloader.py:481: UserWarning: This DataLoader will create 4 worker processes in total. Our suggested max number of worker in current system is 2, which is smaller than what this DataLoader is going to create. Please be aware that excessive worker creation might get DataLoader running slow or even freeze, lower the worker number to avoid potential slowness/freeze if necessary.\n",
            "  cpuset_checked))\n"
          ]
        },
        {
          "output_type": "stream",
          "name": "stdout",
          "text": [
            "Creating dataset at /root/data/QAP_ErdosRenyi_ErdosRenyi_1000_50_1.0_0.08_0.0015/test.pkl\n"
          ]
        },
        {
          "output_type": "stream",
          "name": "stderr",
          "text": [
            "100%|██████████| 1000/1000 [00:02<00:00, 437.80it/s]\n"
          ]
        },
        {
          "output_type": "stream",
          "name": "stdout",
          "text": [
            "Saving dataset at /root/data/QAP_ErdosRenyi_ErdosRenyi_1000_50_1.0_0.08_0.0015/test.pkl\n",
            "Creating dataset at /root/data/QAP_ErdosRenyi_ErdosRenyi_1000_50_1.0_0.08_0.0015/test_dgl.pkl\n",
            "Converting data to DGL format\n"
          ]
        },
        {
          "output_type": "stream",
          "name": "stderr",
          "text": [
            "100%|██████████| 1000/1000 [00:01<00:00, 827.41it/s]\n"
          ]
        },
        {
          "output_type": "stream",
          "name": "stdout",
          "text": [
            "Conversion ended.\n",
            "Saving dataset at /root/data/QAP_ErdosRenyi_ErdosRenyi_1000_50_1.0_0.08_0.0015/test_dgl.pkl\n"
          ]
        },
        {
          "output_type": "stream",
          "name": "stderr",
          "text": [
            "/usr/local/lib/python3.7/dist-packages/torch/utils/data/dataloader.py:481: UserWarning: This DataLoader will create 4 worker processes in total. Our suggested max number of worker in current system is 2, which is smaller than what this DataLoader is going to create. Please be aware that excessive worker creation might get DataLoader running slow or even freeze, lower the worker number to avoid potential slowness/freeze if necessary.\n",
            "  cpuset_checked))\n"
          ]
        },
        {
          "output_type": "stream",
          "name": "stdout",
          "text": [
            "Creating dataset at /root/data/QAP_ErdosRenyi_ErdosRenyi_1000_50_1.0_0.09_0.0015/test.pkl\n"
          ]
        },
        {
          "output_type": "stream",
          "name": "stderr",
          "text": [
            "100%|██████████| 1000/1000 [00:02<00:00, 428.11it/s]\n"
          ]
        },
        {
          "output_type": "stream",
          "name": "stdout",
          "text": [
            "Saving dataset at /root/data/QAP_ErdosRenyi_ErdosRenyi_1000_50_1.0_0.09_0.0015/test.pkl\n",
            "Creating dataset at /root/data/QAP_ErdosRenyi_ErdosRenyi_1000_50_1.0_0.09_0.0015/test_dgl.pkl\n",
            "Converting data to DGL format\n"
          ]
        },
        {
          "output_type": "stream",
          "name": "stderr",
          "text": [
            "100%|██████████| 1000/1000 [00:01<00:00, 888.42it/s]\n"
          ]
        },
        {
          "output_type": "stream",
          "name": "stdout",
          "text": [
            "Conversion ended.\n",
            "Saving dataset at /root/data/QAP_ErdosRenyi_ErdosRenyi_1000_50_1.0_0.09_0.0015/test_dgl.pkl\n"
          ]
        },
        {
          "output_type": "stream",
          "name": "stderr",
          "text": [
            "/usr/local/lib/python3.7/dist-packages/torch/utils/data/dataloader.py:481: UserWarning: This DataLoader will create 4 worker processes in total. Our suggested max number of worker in current system is 2, which is smaller than what this DataLoader is going to create. Please be aware that excessive worker creation might get DataLoader running slow or even freeze, lower the worker number to avoid potential slowness/freeze if necessary.\n",
            "  cpuset_checked))\n"
          ]
        },
        {
          "output_type": "stream",
          "name": "stdout",
          "text": [
            "Creating dataset at /root/data/QAP_ErdosRenyi_ErdosRenyi_1000_50_1.0_0.1_0.0015/test.pkl\n"
          ]
        },
        {
          "output_type": "stream",
          "name": "stderr",
          "text": [
            "100%|██████████| 1000/1000 [00:02<00:00, 421.93it/s]\n"
          ]
        },
        {
          "output_type": "stream",
          "name": "stdout",
          "text": [
            "Saving dataset at /root/data/QAP_ErdosRenyi_ErdosRenyi_1000_50_1.0_0.1_0.0015/test.pkl\n",
            "Creating dataset at /root/data/QAP_ErdosRenyi_ErdosRenyi_1000_50_1.0_0.1_0.0015/test_dgl.pkl\n",
            "Converting data to DGL format\n"
          ]
        },
        {
          "output_type": "stream",
          "name": "stderr",
          "text": [
            "100%|██████████| 1000/1000 [00:01<00:00, 812.63it/s]\n"
          ]
        },
        {
          "output_type": "stream",
          "name": "stdout",
          "text": [
            "Conversion ended.\n",
            "Saving dataset at /root/data/QAP_ErdosRenyi_ErdosRenyi_1000_50_1.0_0.1_0.0015/test_dgl.pkl\n"
          ]
        },
        {
          "output_type": "stream",
          "name": "stderr",
          "text": [
            "/usr/local/lib/python3.7/dist-packages/torch/utils/data/dataloader.py:481: UserWarning: This DataLoader will create 4 worker processes in total. Our suggested max number of worker in current system is 2, which is smaller than what this DataLoader is going to create. Please be aware that excessive worker creation might get DataLoader running slow or even freeze, lower the worker number to avoid potential slowness/freeze if necessary.\n",
            "  cpuset_checked))\n"
          ]
        },
        {
          "output_type": "stream",
          "name": "stdout",
          "text": [
            "Creating dataset at /root/data/QAP_ErdosRenyi_ErdosRenyi_1000_50_1.0_0.11_0.0015/test.pkl\n"
          ]
        },
        {
          "output_type": "stream",
          "name": "stderr",
          "text": [
            "100%|██████████| 1000/1000 [00:02<00:00, 399.14it/s]\n"
          ]
        },
        {
          "output_type": "stream",
          "name": "stdout",
          "text": [
            "Saving dataset at /root/data/QAP_ErdosRenyi_ErdosRenyi_1000_50_1.0_0.11_0.0015/test.pkl\n",
            "Creating dataset at /root/data/QAP_ErdosRenyi_ErdosRenyi_1000_50_1.0_0.11_0.0015/test_dgl.pkl\n",
            "Converting data to DGL format\n"
          ]
        },
        {
          "output_type": "stream",
          "name": "stderr",
          "text": [
            "100%|██████████| 1000/1000 [00:01<00:00, 883.19it/s]\n"
          ]
        },
        {
          "output_type": "stream",
          "name": "stdout",
          "text": [
            "Conversion ended.\n",
            "Saving dataset at /root/data/QAP_ErdosRenyi_ErdosRenyi_1000_50_1.0_0.11_0.0015/test_dgl.pkl\n"
          ]
        },
        {
          "output_type": "stream",
          "name": "stderr",
          "text": [
            "/usr/local/lib/python3.7/dist-packages/torch/utils/data/dataloader.py:481: UserWarning: This DataLoader will create 4 worker processes in total. Our suggested max number of worker in current system is 2, which is smaller than what this DataLoader is going to create. Please be aware that excessive worker creation might get DataLoader running slow or even freeze, lower the worker number to avoid potential slowness/freeze if necessary.\n",
            "  cpuset_checked))\n"
          ]
        },
        {
          "output_type": "stream",
          "name": "stdout",
          "text": [
            "Creating dataset at /root/data/QAP_ErdosRenyi_ErdosRenyi_1000_50_1.0_0.12_0.0015/test.pkl\n"
          ]
        },
        {
          "output_type": "stream",
          "name": "stderr",
          "text": [
            "100%|██████████| 1000/1000 [00:02<00:00, 416.51it/s]\n"
          ]
        },
        {
          "output_type": "stream",
          "name": "stdout",
          "text": [
            "Saving dataset at /root/data/QAP_ErdosRenyi_ErdosRenyi_1000_50_1.0_0.12_0.0015/test.pkl\n",
            "Creating dataset at /root/data/QAP_ErdosRenyi_ErdosRenyi_1000_50_1.0_0.12_0.0015/test_dgl.pkl\n",
            "Converting data to DGL format\n"
          ]
        },
        {
          "output_type": "stream",
          "name": "stderr",
          "text": [
            "100%|██████████| 1000/1000 [00:01<00:00, 830.81it/s]\n"
          ]
        },
        {
          "output_type": "stream",
          "name": "stdout",
          "text": [
            "Conversion ended.\n",
            "Saving dataset at /root/data/QAP_ErdosRenyi_ErdosRenyi_1000_50_1.0_0.12_0.0015/test_dgl.pkl\n"
          ]
        },
        {
          "output_type": "stream",
          "name": "stderr",
          "text": [
            "/usr/local/lib/python3.7/dist-packages/torch/utils/data/dataloader.py:481: UserWarning: This DataLoader will create 4 worker processes in total. Our suggested max number of worker in current system is 2, which is smaller than what this DataLoader is going to create. Please be aware that excessive worker creation might get DataLoader running slow or even freeze, lower the worker number to avoid potential slowness/freeze if necessary.\n",
            "  cpuset_checked))\n"
          ]
        },
        {
          "output_type": "stream",
          "name": "stdout",
          "text": [
            "Creating dataset at /root/data/QAP_ErdosRenyi_ErdosRenyi_1000_50_1.0_0.13_0.0015/test.pkl\n"
          ]
        },
        {
          "output_type": "stream",
          "name": "stderr",
          "text": [
            "100%|██████████| 1000/1000 [00:02<00:00, 395.57it/s]\n"
          ]
        },
        {
          "output_type": "stream",
          "name": "stdout",
          "text": [
            "Saving dataset at /root/data/QAP_ErdosRenyi_ErdosRenyi_1000_50_1.0_0.13_0.0015/test.pkl\n",
            "Creating dataset at /root/data/QAP_ErdosRenyi_ErdosRenyi_1000_50_1.0_0.13_0.0015/test_dgl.pkl\n",
            "Converting data to DGL format\n"
          ]
        },
        {
          "output_type": "stream",
          "name": "stderr",
          "text": [
            "100%|██████████| 1000/1000 [00:01<00:00, 851.57it/s]\n"
          ]
        },
        {
          "output_type": "stream",
          "name": "stdout",
          "text": [
            "Conversion ended.\n",
            "Saving dataset at /root/data/QAP_ErdosRenyi_ErdosRenyi_1000_50_1.0_0.13_0.0015/test_dgl.pkl\n"
          ]
        },
        {
          "output_type": "stream",
          "name": "stderr",
          "text": [
            "/usr/local/lib/python3.7/dist-packages/torch/utils/data/dataloader.py:481: UserWarning: This DataLoader will create 4 worker processes in total. Our suggested max number of worker in current system is 2, which is smaller than what this DataLoader is going to create. Please be aware that excessive worker creation might get DataLoader running slow or even freeze, lower the worker number to avoid potential slowness/freeze if necessary.\n",
            "  cpuset_checked))\n"
          ]
        },
        {
          "output_type": "stream",
          "name": "stdout",
          "text": [
            "Creating dataset at /root/data/QAP_ErdosRenyi_ErdosRenyi_1000_50_1.0_0.14_0.0015/test.pkl\n"
          ]
        },
        {
          "output_type": "stream",
          "name": "stderr",
          "text": [
            "100%|██████████| 1000/1000 [00:02<00:00, 401.60it/s]\n"
          ]
        },
        {
          "output_type": "stream",
          "name": "stdout",
          "text": [
            "Saving dataset at /root/data/QAP_ErdosRenyi_ErdosRenyi_1000_50_1.0_0.14_0.0015/test.pkl\n",
            "Creating dataset at /root/data/QAP_ErdosRenyi_ErdosRenyi_1000_50_1.0_0.14_0.0015/test_dgl.pkl\n",
            "Converting data to DGL format\n"
          ]
        },
        {
          "output_type": "stream",
          "name": "stderr",
          "text": [
            "100%|██████████| 1000/1000 [00:01<00:00, 818.58it/s]\n"
          ]
        },
        {
          "output_type": "stream",
          "name": "stdout",
          "text": [
            "Conversion ended.\n",
            "Saving dataset at /root/data/QAP_ErdosRenyi_ErdosRenyi_1000_50_1.0_0.14_0.0015/test_dgl.pkl\n"
          ]
        },
        {
          "output_type": "stream",
          "name": "stderr",
          "text": [
            "/usr/local/lib/python3.7/dist-packages/torch/utils/data/dataloader.py:481: UserWarning: This DataLoader will create 4 worker processes in total. Our suggested max number of worker in current system is 2, which is smaller than what this DataLoader is going to create. Please be aware that excessive worker creation might get DataLoader running slow or even freeze, lower the worker number to avoid potential slowness/freeze if necessary.\n",
            "  cpuset_checked))\n"
          ]
        },
        {
          "output_type": "stream",
          "name": "stdout",
          "text": [
            "Creating dataset at /root/data/QAP_ErdosRenyi_ErdosRenyi_1000_50_1.0_0.15_0.0015/test.pkl\n"
          ]
        },
        {
          "output_type": "stream",
          "name": "stderr",
          "text": [
            "100%|██████████| 1000/1000 [00:02<00:00, 400.54it/s]\n"
          ]
        },
        {
          "output_type": "stream",
          "name": "stdout",
          "text": [
            "Saving dataset at /root/data/QAP_ErdosRenyi_ErdosRenyi_1000_50_1.0_0.15_0.0015/test.pkl\n",
            "Creating dataset at /root/data/QAP_ErdosRenyi_ErdosRenyi_1000_50_1.0_0.15_0.0015/test_dgl.pkl\n",
            "Converting data to DGL format\n"
          ]
        },
        {
          "output_type": "stream",
          "name": "stderr",
          "text": [
            "100%|██████████| 1000/1000 [00:01<00:00, 917.84it/s]\n"
          ]
        },
        {
          "output_type": "stream",
          "name": "stdout",
          "text": [
            "Conversion ended.\n",
            "Saving dataset at /root/data/QAP_ErdosRenyi_ErdosRenyi_1000_50_1.0_0.15_0.0015/test_dgl.pkl\n"
          ]
        },
        {
          "output_type": "stream",
          "name": "stderr",
          "text": [
            "/usr/local/lib/python3.7/dist-packages/torch/utils/data/dataloader.py:481: UserWarning: This DataLoader will create 4 worker processes in total. Our suggested max number of worker in current system is 2, which is smaller than what this DataLoader is going to create. Please be aware that excessive worker creation might get DataLoader running slow or even freeze, lower the worker number to avoid potential slowness/freeze if necessary.\n",
            "  cpuset_checked))\n"
          ]
        },
        {
          "output_type": "stream",
          "name": "stdout",
          "text": [
            "Creating dataset at /root/data/QAP_ErdosRenyi_ErdosRenyi_1000_50_1.0_0.16_0.0015/test.pkl\n"
          ]
        },
        {
          "output_type": "stream",
          "name": "stderr",
          "text": [
            "100%|██████████| 1000/1000 [00:02<00:00, 388.15it/s]\n"
          ]
        },
        {
          "output_type": "stream",
          "name": "stdout",
          "text": [
            "Saving dataset at /root/data/QAP_ErdosRenyi_ErdosRenyi_1000_50_1.0_0.16_0.0015/test.pkl\n",
            "Creating dataset at /root/data/QAP_ErdosRenyi_ErdosRenyi_1000_50_1.0_0.16_0.0015/test_dgl.pkl\n",
            "Converting data to DGL format\n"
          ]
        },
        {
          "output_type": "stream",
          "name": "stderr",
          "text": [
            "100%|██████████| 1000/1000 [00:01<00:00, 818.00it/s]\n"
          ]
        },
        {
          "output_type": "stream",
          "name": "stdout",
          "text": [
            "Conversion ended.\n",
            "Saving dataset at /root/data/QAP_ErdosRenyi_ErdosRenyi_1000_50_1.0_0.16_0.0015/test_dgl.pkl\n"
          ]
        },
        {
          "output_type": "stream",
          "name": "stderr",
          "text": [
            "/usr/local/lib/python3.7/dist-packages/torch/utils/data/dataloader.py:481: UserWarning: This DataLoader will create 4 worker processes in total. Our suggested max number of worker in current system is 2, which is smaller than what this DataLoader is going to create. Please be aware that excessive worker creation might get DataLoader running slow or even freeze, lower the worker number to avoid potential slowness/freeze if necessary.\n",
            "  cpuset_checked))\n"
          ]
        },
        {
          "output_type": "stream",
          "name": "stdout",
          "text": [
            "Creating dataset at /root/data/QAP_ErdosRenyi_ErdosRenyi_1000_50_1.0_0.17_0.0015/test.pkl\n"
          ]
        },
        {
          "output_type": "stream",
          "name": "stderr",
          "text": [
            "100%|██████████| 1000/1000 [00:02<00:00, 391.96it/s]\n"
          ]
        },
        {
          "output_type": "stream",
          "name": "stdout",
          "text": [
            "Saving dataset at /root/data/QAP_ErdosRenyi_ErdosRenyi_1000_50_1.0_0.17_0.0015/test.pkl\n",
            "Creating dataset at /root/data/QAP_ErdosRenyi_ErdosRenyi_1000_50_1.0_0.17_0.0015/test_dgl.pkl\n",
            "Converting data to DGL format\n"
          ]
        },
        {
          "output_type": "stream",
          "name": "stderr",
          "text": [
            "100%|██████████| 1000/1000 [00:01<00:00, 827.91it/s]\n"
          ]
        },
        {
          "output_type": "stream",
          "name": "stdout",
          "text": [
            "Conversion ended.\n",
            "Saving dataset at /root/data/QAP_ErdosRenyi_ErdosRenyi_1000_50_1.0_0.17_0.0015/test_dgl.pkl\n"
          ]
        },
        {
          "output_type": "stream",
          "name": "stderr",
          "text": [
            "/usr/local/lib/python3.7/dist-packages/torch/utils/data/dataloader.py:481: UserWarning: This DataLoader will create 4 worker processes in total. Our suggested max number of worker in current system is 2, which is smaller than what this DataLoader is going to create. Please be aware that excessive worker creation might get DataLoader running slow or even freeze, lower the worker number to avoid potential slowness/freeze if necessary.\n",
            "  cpuset_checked))\n"
          ]
        },
        {
          "output_type": "stream",
          "name": "stdout",
          "text": [
            "Creating dataset at /root/data/QAP_ErdosRenyi_ErdosRenyi_1000_50_1.0_0.18_0.0015/test.pkl\n"
          ]
        },
        {
          "output_type": "stream",
          "name": "stderr",
          "text": [
            "100%|██████████| 1000/1000 [00:02<00:00, 380.41it/s]\n"
          ]
        },
        {
          "output_type": "stream",
          "name": "stdout",
          "text": [
            "Saving dataset at /root/data/QAP_ErdosRenyi_ErdosRenyi_1000_50_1.0_0.18_0.0015/test.pkl\n",
            "Creating dataset at /root/data/QAP_ErdosRenyi_ErdosRenyi_1000_50_1.0_0.18_0.0015/test_dgl.pkl\n",
            "Converting data to DGL format\n"
          ]
        },
        {
          "output_type": "stream",
          "name": "stderr",
          "text": [
            "100%|██████████| 1000/1000 [00:01<00:00, 817.34it/s]\n"
          ]
        },
        {
          "output_type": "stream",
          "name": "stdout",
          "text": [
            "Conversion ended.\n",
            "Saving dataset at /root/data/QAP_ErdosRenyi_ErdosRenyi_1000_50_1.0_0.18_0.0015/test_dgl.pkl\n"
          ]
        },
        {
          "output_type": "stream",
          "name": "stderr",
          "text": [
            "/usr/local/lib/python3.7/dist-packages/torch/utils/data/dataloader.py:481: UserWarning: This DataLoader will create 4 worker processes in total. Our suggested max number of worker in current system is 2, which is smaller than what this DataLoader is going to create. Please be aware that excessive worker creation might get DataLoader running slow or even freeze, lower the worker number to avoid potential slowness/freeze if necessary.\n",
            "  cpuset_checked))\n"
          ]
        },
        {
          "output_type": "stream",
          "name": "stdout",
          "text": [
            "Creating dataset at /root/data/QAP_ErdosRenyi_ErdosRenyi_1000_50_1.0_0.19_0.0015/test.pkl\n"
          ]
        },
        {
          "output_type": "stream",
          "name": "stderr",
          "text": [
            "100%|██████████| 1000/1000 [00:02<00:00, 367.38it/s]\n"
          ]
        },
        {
          "output_type": "stream",
          "name": "stdout",
          "text": [
            "Saving dataset at /root/data/QAP_ErdosRenyi_ErdosRenyi_1000_50_1.0_0.19_0.0015/test.pkl\n",
            "Creating dataset at /root/data/QAP_ErdosRenyi_ErdosRenyi_1000_50_1.0_0.19_0.0015/test_dgl.pkl\n",
            "Converting data to DGL format\n"
          ]
        },
        {
          "output_type": "stream",
          "name": "stderr",
          "text": [
            "100%|██████████| 1000/1000 [00:01<00:00, 865.40it/s]\n"
          ]
        },
        {
          "output_type": "stream",
          "name": "stdout",
          "text": [
            "Conversion ended.\n",
            "Saving dataset at /root/data/QAP_ErdosRenyi_ErdosRenyi_1000_50_1.0_0.19_0.0015/test_dgl.pkl\n"
          ]
        },
        {
          "output_type": "stream",
          "name": "stderr",
          "text": [
            "/usr/local/lib/python3.7/dist-packages/torch/utils/data/dataloader.py:481: UserWarning: This DataLoader will create 4 worker processes in total. Our suggested max number of worker in current system is 2, which is smaller than what this DataLoader is going to create. Please be aware that excessive worker creation might get DataLoader running slow or even freeze, lower the worker number to avoid potential slowness/freeze if necessary.\n",
            "  cpuset_checked))\n"
          ]
        },
        {
          "output_type": "stream",
          "name": "stdout",
          "text": [
            "Creating dataset at /root/data/QAP_ErdosRenyi_ErdosRenyi_1000_50_1.0_0.2_0.0015/test.pkl\n"
          ]
        },
        {
          "output_type": "stream",
          "name": "stderr",
          "text": [
            "100%|██████████| 1000/1000 [00:02<00:00, 371.02it/s]\n"
          ]
        },
        {
          "output_type": "stream",
          "name": "stdout",
          "text": [
            "Saving dataset at /root/data/QAP_ErdosRenyi_ErdosRenyi_1000_50_1.0_0.2_0.0015/test.pkl\n",
            "Creating dataset at /root/data/QAP_ErdosRenyi_ErdosRenyi_1000_50_1.0_0.2_0.0015/test_dgl.pkl\n",
            "Converting data to DGL format\n"
          ]
        },
        {
          "output_type": "stream",
          "name": "stderr",
          "text": [
            "100%|██████████| 1000/1000 [00:01<00:00, 806.57it/s]\n"
          ]
        },
        {
          "output_type": "stream",
          "name": "stdout",
          "text": [
            "Conversion ended.\n",
            "Saving dataset at /root/data/QAP_ErdosRenyi_ErdosRenyi_1000_50_1.0_0.2_0.0015/test_dgl.pkl\n"
          ]
        },
        {
          "output_type": "stream",
          "name": "stderr",
          "text": [
            "/usr/local/lib/python3.7/dist-packages/torch/utils/data/dataloader.py:481: UserWarning: This DataLoader will create 4 worker processes in total. Our suggested max number of worker in current system is 2, which is smaller than what this DataLoader is going to create. Please be aware that excessive worker creation might get DataLoader running slow or even freeze, lower the worker number to avoid potential slowness/freeze if necessary.\n",
            "  cpuset_checked))\n"
          ]
        },
        {
          "output_type": "stream",
          "name": "stdout",
          "text": [
            "Creating dataset at /root/data/QAP_ErdosRenyi_ErdosRenyi_1000_50_1.0_0.21_0.0015/test.pkl\n"
          ]
        },
        {
          "output_type": "stream",
          "name": "stderr",
          "text": [
            "100%|██████████| 1000/1000 [00:02<00:00, 370.92it/s]\n"
          ]
        },
        {
          "output_type": "stream",
          "name": "stdout",
          "text": [
            "Saving dataset at /root/data/QAP_ErdosRenyi_ErdosRenyi_1000_50_1.0_0.21_0.0015/test.pkl\n",
            "Creating dataset at /root/data/QAP_ErdosRenyi_ErdosRenyi_1000_50_1.0_0.21_0.0015/test_dgl.pkl\n",
            "Converting data to DGL format\n"
          ]
        },
        {
          "output_type": "stream",
          "name": "stderr",
          "text": [
            "100%|██████████| 1000/1000 [00:01<00:00, 818.91it/s]\n"
          ]
        },
        {
          "output_type": "stream",
          "name": "stdout",
          "text": [
            "Conversion ended.\n",
            "Saving dataset at /root/data/QAP_ErdosRenyi_ErdosRenyi_1000_50_1.0_0.21_0.0015/test_dgl.pkl\n"
          ]
        },
        {
          "output_type": "stream",
          "name": "stderr",
          "text": [
            "/usr/local/lib/python3.7/dist-packages/torch/utils/data/dataloader.py:481: UserWarning: This DataLoader will create 4 worker processes in total. Our suggested max number of worker in current system is 2, which is smaller than what this DataLoader is going to create. Please be aware that excessive worker creation might get DataLoader running slow or even freeze, lower the worker number to avoid potential slowness/freeze if necessary.\n",
            "  cpuset_checked))\n"
          ]
        },
        {
          "output_type": "stream",
          "name": "stdout",
          "text": [
            "Creating dataset at /root/data/QAP_ErdosRenyi_ErdosRenyi_1000_50_1.0_0.22_0.0015/test.pkl\n"
          ]
        },
        {
          "output_type": "stream",
          "name": "stderr",
          "text": [
            "100%|██████████| 1000/1000 [00:02<00:00, 368.57it/s]\n"
          ]
        },
        {
          "output_type": "stream",
          "name": "stdout",
          "text": [
            "Saving dataset at /root/data/QAP_ErdosRenyi_ErdosRenyi_1000_50_1.0_0.22_0.0015/test.pkl\n",
            "Creating dataset at /root/data/QAP_ErdosRenyi_ErdosRenyi_1000_50_1.0_0.22_0.0015/test_dgl.pkl\n",
            "Converting data to DGL format\n"
          ]
        },
        {
          "output_type": "stream",
          "name": "stderr",
          "text": [
            "100%|██████████| 1000/1000 [00:01<00:00, 833.01it/s]\n"
          ]
        },
        {
          "output_type": "stream",
          "name": "stdout",
          "text": [
            "Conversion ended.\n",
            "Saving dataset at /root/data/QAP_ErdosRenyi_ErdosRenyi_1000_50_1.0_0.22_0.0015/test_dgl.pkl\n"
          ]
        },
        {
          "output_type": "stream",
          "name": "stderr",
          "text": [
            "/usr/local/lib/python3.7/dist-packages/torch/utils/data/dataloader.py:481: UserWarning: This DataLoader will create 4 worker processes in total. Our suggested max number of worker in current system is 2, which is smaller than what this DataLoader is going to create. Please be aware that excessive worker creation might get DataLoader running slow or even freeze, lower the worker number to avoid potential slowness/freeze if necessary.\n",
            "  cpuset_checked))\n"
          ]
        }
      ]
    },
    {
      "cell_type": "code",
      "source": [
        "quant_low=0.1\n",
        "quant_up=0.9\n",
        "mc_50, q50 = compute_quant(all_a,quant_low=quant_low,quant_up=quant_up)"
      ],
      "metadata": {
        "id": "MiGIusa-21L4"
      },
      "execution_count": null,
      "outputs": []
    },
    {
      "cell_type": "code",
      "source": [
        "error_50 = acc_2_error(mc_50,q50)\n",
        "\n",
        "plt.errorbar(list_noise,mc_50,yerr=error_50.T,label='FGNN');\n",
        "plt.xlabel('noise (fraction of noisy edges)')\n",
        "plt.ylabel('accuracy')\n",
        "plt.title(f'Graphs with avg. degree {deg} (quantile {int(100*quant_low)}-{int(100*quant_up)}%)')\n",
        "plt.legend()\n",
        "plt.show()"
      ],
      "metadata": {
        "id": "J4bv4z6G213d",
        "colab": {
          "base_uri": "https://localhost:8080/",
          "height": 295
        },
        "outputId": "8addef8a-7855-42ae-ba1b-9b07013ceabb"
      },
      "execution_count": null,
      "outputs": [
        {
          "output_type": "display_data",
          "data": {
            "image/png": "[encoded data removed]",
            "text/plain": [
              "<Figure size 432x288 with 1 Axes>"
            ]
          },
          "metadata": {
            "needs_background": "light"
          }
        }
      ]
    },
    {
      "cell_type": "code",
      "source": [
        ""
      ],
      "metadata": {
        "id": "oVLxOKPpZay1"
      },
      "execution_count": null,
      "outputs": []
    }
  ]
}